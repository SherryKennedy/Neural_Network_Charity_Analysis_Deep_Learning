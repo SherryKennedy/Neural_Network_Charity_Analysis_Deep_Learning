{
  "cells": [
    {
      "cell_type": "markdown",
      "metadata": {
        "id": "zJpHYEZ0o5qB"
      },
      "source": [
        "## AlphabetSoupCharity_Optimizer 1\n",
        "\n",
        "- Test adding another hidden Layer\n",
        "- Using ModelCheckpoint and batches"
      ]
    },
    {
      "cell_type": "markdown",
      "source": [
        "## Preprocessing"
      ],
      "metadata": {
        "id": "-Vjaj_kh_0Jb"
      }
    },
    {
      "cell_type": "code",
      "source": [
        " #Mount the drive, last folder lhs, give permissions, copy path\n",
        "from google.colab import drive\n",
        "drive.mount('/content/drive')"
      ],
      "metadata": {
        "colab": {
          "base_uri": "https://localhost:8080/"
        },
        "id": "5p97Y95Q8cIK",
        "outputId": "171f6185-f375-4a12-fcb7-3d0f19c5914a"
      },
      "execution_count": 1,
      "outputs": [
        {
          "output_type": "stream",
          "name": "stdout",
          "text": [
            "Drive already mounted at /content/drive; to attempt to forcibly remount, call drive.mount(\"/content/drive\", force_remount=True).\n"
          ]
        }
      ]
    },
    {
      "cell_type": "code",
      "execution_count": 2,
      "metadata": {
        "id": "vhqjqXZjo5qE"
      },
      "outputs": [],
      "source": [
        "# Import our dependencies\n",
        "from sklearn.model_selection import train_test_split\n",
        "from sklearn.preprocessing import StandardScaler\n",
        "import pandas as pd\n",
        "import tensorflow as tf  \n",
        "# to create check points\n",
        "from tensorflow.keras.callbacks import ModelCheckpoint\n",
        "\n",
        "# Plotting\n",
        "import matplotlib.pyplot as plt\n"
      ]
    },
    {
      "cell_type": "code",
      "source": [
        "\n",
        "# Greate a check point path\n",
        "checkpoint_path = \"/content/drive/MyDrive/Colab Notebooks/Deep-Learning/checkpoints/weights.{epoch:02d}.hdf5\"\n",
        "\n"
      ],
      "metadata": {
        "id": "RkMYZ6qvYZ6q"
      },
      "execution_count": 3,
      "outputs": []
    },
    {
      "cell_type": "code",
      "execution_count": 4,
      "metadata": {
        "colab": {
          "base_uri": "https://localhost:8080/",
          "height": 496
        },
        "id": "a7VDO9rYo5qF",
        "outputId": "9c482fae-043a-45f1-b5db-62e421df1b07"
      },
      "outputs": [
        {
          "output_type": "execute_result",
          "data": {
            "text/html": [
              "\n",
              "  <div id=\"df-6ab81be3-b9af-4d9e-9018-92bc877a0a8f\">\n",
              "    <div class=\"colab-df-container\">\n",
              "      <div>\n",
              "<style scoped>\n",
              "    .dataframe tbody tr th:only-of-type {\n",
              "        vertical-align: middle;\n",
              "    }\n",
              "\n",
              "    .dataframe tbody tr th {\n",
              "        vertical-align: top;\n",
              "    }\n",
              "\n",
              "    .dataframe thead th {\n",
              "        text-align: right;\n",
              "    }\n",
              "</style>\n",
              "<table border=\"1\" class=\"dataframe\">\n",
              "  <thead>\n",
              "    <tr style=\"text-align: right;\">\n",
              "      <th></th>\n",
              "      <th>EIN</th>\n",
              "      <th>NAME</th>\n",
              "      <th>APPLICATION_TYPE</th>\n",
              "      <th>AFFILIATION</th>\n",
              "      <th>CLASSIFICATION</th>\n",
              "      <th>USE_CASE</th>\n",
              "      <th>ORGANIZATION</th>\n",
              "      <th>STATUS</th>\n",
              "      <th>INCOME_AMT</th>\n",
              "      <th>SPECIAL_CONSIDERATIONS</th>\n",
              "      <th>ASK_AMT</th>\n",
              "      <th>IS_SUCCESSFUL</th>\n",
              "    </tr>\n",
              "  </thead>\n",
              "  <tbody>\n",
              "    <tr>\n",
              "      <th>0</th>\n",
              "      <td>10520599</td>\n",
              "      <td>BLUE KNIGHTS MOTORCYCLE CLUB</td>\n",
              "      <td>T10</td>\n",
              "      <td>Independent</td>\n",
              "      <td>C1000</td>\n",
              "      <td>ProductDev</td>\n",
              "      <td>Association</td>\n",
              "      <td>1</td>\n",
              "      <td>0</td>\n",
              "      <td>N</td>\n",
              "      <td>5000</td>\n",
              "      <td>1</td>\n",
              "    </tr>\n",
              "    <tr>\n",
              "      <th>1</th>\n",
              "      <td>10531628</td>\n",
              "      <td>AMERICAN CHESAPEAKE CLUB CHARITABLE TR</td>\n",
              "      <td>T3</td>\n",
              "      <td>Independent</td>\n",
              "      <td>C2000</td>\n",
              "      <td>Preservation</td>\n",
              "      <td>Co-operative</td>\n",
              "      <td>1</td>\n",
              "      <td>1-9999</td>\n",
              "      <td>N</td>\n",
              "      <td>108590</td>\n",
              "      <td>1</td>\n",
              "    </tr>\n",
              "    <tr>\n",
              "      <th>2</th>\n",
              "      <td>10547893</td>\n",
              "      <td>ST CLOUD PROFESSIONAL FIREFIGHTERS</td>\n",
              "      <td>T5</td>\n",
              "      <td>CompanySponsored</td>\n",
              "      <td>C3000</td>\n",
              "      <td>ProductDev</td>\n",
              "      <td>Association</td>\n",
              "      <td>1</td>\n",
              "      <td>0</td>\n",
              "      <td>N</td>\n",
              "      <td>5000</td>\n",
              "      <td>0</td>\n",
              "    </tr>\n",
              "    <tr>\n",
              "      <th>3</th>\n",
              "      <td>10553066</td>\n",
              "      <td>SOUTHSIDE ATHLETIC ASSOCIATION</td>\n",
              "      <td>T3</td>\n",
              "      <td>CompanySponsored</td>\n",
              "      <td>C2000</td>\n",
              "      <td>Preservation</td>\n",
              "      <td>Trust</td>\n",
              "      <td>1</td>\n",
              "      <td>10000-24999</td>\n",
              "      <td>N</td>\n",
              "      <td>6692</td>\n",
              "      <td>1</td>\n",
              "    </tr>\n",
              "    <tr>\n",
              "      <th>4</th>\n",
              "      <td>10556103</td>\n",
              "      <td>GENETIC RESEARCH INSTITUTE OF THE DESERT</td>\n",
              "      <td>T3</td>\n",
              "      <td>Independent</td>\n",
              "      <td>C1000</td>\n",
              "      <td>Heathcare</td>\n",
              "      <td>Trust</td>\n",
              "      <td>1</td>\n",
              "      <td>100000-499999</td>\n",
              "      <td>N</td>\n",
              "      <td>142590</td>\n",
              "      <td>1</td>\n",
              "    </tr>\n",
              "  </tbody>\n",
              "</table>\n",
              "</div>\n",
              "      <button class=\"colab-df-convert\" onclick=\"convertToInteractive('df-6ab81be3-b9af-4d9e-9018-92bc877a0a8f')\"\n",
              "              title=\"Convert this dataframe to an interactive table.\"\n",
              "              style=\"display:none;\">\n",
              "        \n",
              "  <svg xmlns=\"http://www.w3.org/2000/svg\" height=\"24px\"viewBox=\"0 0 24 24\"\n",
              "       width=\"24px\">\n",
              "    <path d=\"M0 0h24v24H0V0z\" fill=\"none\"/>\n",
              "    <path d=\"M18.56 5.44l.94 2.06.94-2.06 2.06-.94-2.06-.94-.94-2.06-.94 2.06-2.06.94zm-11 1L8.5 8.5l.94-2.06 2.06-.94-2.06-.94L8.5 2.5l-.94 2.06-2.06.94zm10 10l.94 2.06.94-2.06 2.06-.94-2.06-.94-.94-2.06-.94 2.06-2.06.94z\"/><path d=\"M17.41 7.96l-1.37-1.37c-.4-.4-.92-.59-1.43-.59-.52 0-1.04.2-1.43.59L10.3 9.45l-7.72 7.72c-.78.78-.78 2.05 0 2.83L4 21.41c.39.39.9.59 1.41.59.51 0 1.02-.2 1.41-.59l7.78-7.78 2.81-2.81c.8-.78.8-2.07 0-2.86zM5.41 20L4 18.59l7.72-7.72 1.47 1.35L5.41 20z\"/>\n",
              "  </svg>\n",
              "      </button>\n",
              "      \n",
              "  <style>\n",
              "    .colab-df-container {\n",
              "      display:flex;\n",
              "      flex-wrap:wrap;\n",
              "      gap: 12px;\n",
              "    }\n",
              "\n",
              "    .colab-df-convert {\n",
              "      background-color: #E8F0FE;\n",
              "      border: none;\n",
              "      border-radius: 50%;\n",
              "      cursor: pointer;\n",
              "      display: none;\n",
              "      fill: #1967D2;\n",
              "      height: 32px;\n",
              "      padding: 0 0 0 0;\n",
              "      width: 32px;\n",
              "    }\n",
              "\n",
              "    .colab-df-convert:hover {\n",
              "      background-color: #E2EBFA;\n",
              "      box-shadow: 0px 1px 2px rgba(60, 64, 67, 0.3), 0px 1px 3px 1px rgba(60, 64, 67, 0.15);\n",
              "      fill: #174EA6;\n",
              "    }\n",
              "\n",
              "    [theme=dark] .colab-df-convert {\n",
              "      background-color: #3B4455;\n",
              "      fill: #D2E3FC;\n",
              "    }\n",
              "\n",
              "    [theme=dark] .colab-df-convert:hover {\n",
              "      background-color: #434B5C;\n",
              "      box-shadow: 0px 1px 3px 1px rgba(0, 0, 0, 0.15);\n",
              "      filter: drop-shadow(0px 1px 2px rgba(0, 0, 0, 0.3));\n",
              "      fill: #FFFFFF;\n",
              "    }\n",
              "  </style>\n",
              "\n",
              "      <script>\n",
              "        const buttonEl =\n",
              "          document.querySelector('#df-6ab81be3-b9af-4d9e-9018-92bc877a0a8f button.colab-df-convert');\n",
              "        buttonEl.style.display =\n",
              "          google.colab.kernel.accessAllowed ? 'block' : 'none';\n",
              "\n",
              "        async function convertToInteractive(key) {\n",
              "          const element = document.querySelector('#df-6ab81be3-b9af-4d9e-9018-92bc877a0a8f');\n",
              "          const dataTable =\n",
              "            await google.colab.kernel.invokeFunction('convertToInteractive',\n",
              "                                                     [key], {});\n",
              "          if (!dataTable) return;\n",
              "\n",
              "          const docLinkHtml = 'Like what you see? Visit the ' +\n",
              "            '<a target=\"_blank\" href=https://colab.research.google.com/notebooks/data_table.ipynb>data table notebook</a>'\n",
              "            + ' to learn more about interactive tables.';\n",
              "          element.innerHTML = '';\n",
              "          dataTable['output_type'] = 'display_data';\n",
              "          await google.colab.output.renderOutput(dataTable, element);\n",
              "          const docLink = document.createElement('div');\n",
              "          docLink.innerHTML = docLinkHtml;\n",
              "          element.appendChild(docLink);\n",
              "        }\n",
              "      </script>\n",
              "    </div>\n",
              "  </div>\n",
              "  "
            ],
            "text/plain": [
              "        EIN                                      NAME  ... ASK_AMT IS_SUCCESSFUL\n",
              "0  10520599              BLUE KNIGHTS MOTORCYCLE CLUB  ...    5000             1\n",
              "1  10531628    AMERICAN CHESAPEAKE CLUB CHARITABLE TR  ...  108590             1\n",
              "2  10547893        ST CLOUD PROFESSIONAL FIREFIGHTERS  ...    5000             0\n",
              "3  10553066            SOUTHSIDE ATHLETIC ASSOCIATION  ...    6692             1\n",
              "4  10556103  GENETIC RESEARCH INSTITUTE OF THE DESERT  ...  142590             1\n",
              "\n",
              "[5 rows x 12 columns]"
            ]
          },
          "metadata": {},
          "execution_count": 4
        }
      ],
      "source": [
        "#  Import and read the charity_data.csv.\n",
        "application_df = pd.read_csv(\"/content/drive/MyDrive/Colab Notebooks/Deep-Learning/Resources/charity_data.csv\")\n",
        "application_df.head()"
      ]
    },
    {
      "cell_type": "code",
      "execution_count": 5,
      "metadata": {
        "id": "RTU7Smy-o5qG",
        "outputId": "bb4978d8-4c8a-4ccf-8031-221efe35c827",
        "colab": {
          "base_uri": "https://localhost:8080/"
        }
      },
      "outputs": [
        {
          "output_type": "execute_result",
          "data": {
            "text/plain": [
              "(34299, 12)"
            ]
          },
          "metadata": {},
          "execution_count": 5
        }
      ],
      "source": [
        "application_df.shape"
      ]
    },
    {
      "cell_type": "code",
      "execution_count": 6,
      "metadata": {
        "id": "wUBE6sW4o5qH",
        "outputId": "369ad42a-2694-45d2-8948-5b031ec27fb5",
        "colab": {
          "base_uri": "https://localhost:8080/"
        }
      },
      "outputs": [
        {
          "output_type": "stream",
          "name": "stdout",
          "text": [
            "<class 'pandas.core.frame.DataFrame'>\n",
            "RangeIndex: 34299 entries, 0 to 34298\n",
            "Data columns (total 12 columns):\n",
            " #   Column                  Non-Null Count  Dtype \n",
            "---  ------                  --------------  ----- \n",
            " 0   EIN                     34299 non-null  int64 \n",
            " 1   NAME                    34299 non-null  object\n",
            " 2   APPLICATION_TYPE        34299 non-null  object\n",
            " 3   AFFILIATION             34299 non-null  object\n",
            " 4   CLASSIFICATION          34299 non-null  object\n",
            " 5   USE_CASE                34299 non-null  object\n",
            " 6   ORGANIZATION            34299 non-null  object\n",
            " 7   STATUS                  34299 non-null  int64 \n",
            " 8   INCOME_AMT              34299 non-null  object\n",
            " 9   SPECIAL_CONSIDERATIONS  34299 non-null  object\n",
            " 10  ASK_AMT                 34299 non-null  int64 \n",
            " 11  IS_SUCCESSFUL           34299 non-null  int64 \n",
            "dtypes: int64(4), object(8)\n",
            "memory usage: 3.1+ MB\n"
          ]
        }
      ],
      "source": [
        "application_df.info()"
      ]
    },
    {
      "cell_type": "markdown",
      "metadata": {
        "id": "v1v_NI5qo5qH"
      },
      "source": [
        "### Data Preparation"
      ]
    },
    {
      "cell_type": "code",
      "execution_count": 7,
      "metadata": {
        "id": "-9F4v1coo5qI"
      },
      "outputs": [],
      "source": [
        "# Drop the non-beneficial ID columns, 'EIN' and 'NAME'.\n",
        "application_df.drop(['EIN','NAME'], axis=1, inplace= True)"
      ]
    },
    {
      "cell_type": "code",
      "execution_count": 8,
      "metadata": {
        "id": "mJynnDlxo5qI",
        "outputId": "14b9699c-184e-4982-d5f8-c64e95843198",
        "colab": {
          "base_uri": "https://localhost:8080/",
          "height": 206
        }
      },
      "outputs": [
        {
          "output_type": "execute_result",
          "data": {
            "text/html": [
              "\n",
              "  <div id=\"df-ea624d82-b570-4a4f-8669-7b85fa779465\">\n",
              "    <div class=\"colab-df-container\">\n",
              "      <div>\n",
              "<style scoped>\n",
              "    .dataframe tbody tr th:only-of-type {\n",
              "        vertical-align: middle;\n",
              "    }\n",
              "\n",
              "    .dataframe tbody tr th {\n",
              "        vertical-align: top;\n",
              "    }\n",
              "\n",
              "    .dataframe thead th {\n",
              "        text-align: right;\n",
              "    }\n",
              "</style>\n",
              "<table border=\"1\" class=\"dataframe\">\n",
              "  <thead>\n",
              "    <tr style=\"text-align: right;\">\n",
              "      <th></th>\n",
              "      <th>APPLICATION_TYPE</th>\n",
              "      <th>AFFILIATION</th>\n",
              "      <th>CLASSIFICATION</th>\n",
              "      <th>USE_CASE</th>\n",
              "      <th>ORGANIZATION</th>\n",
              "      <th>STATUS</th>\n",
              "      <th>INCOME_AMT</th>\n",
              "      <th>SPECIAL_CONSIDERATIONS</th>\n",
              "      <th>ASK_AMT</th>\n",
              "      <th>IS_SUCCESSFUL</th>\n",
              "    </tr>\n",
              "  </thead>\n",
              "  <tbody>\n",
              "    <tr>\n",
              "      <th>0</th>\n",
              "      <td>T10</td>\n",
              "      <td>Independent</td>\n",
              "      <td>C1000</td>\n",
              "      <td>ProductDev</td>\n",
              "      <td>Association</td>\n",
              "      <td>1</td>\n",
              "      <td>0</td>\n",
              "      <td>N</td>\n",
              "      <td>5000</td>\n",
              "      <td>1</td>\n",
              "    </tr>\n",
              "    <tr>\n",
              "      <th>1</th>\n",
              "      <td>T3</td>\n",
              "      <td>Independent</td>\n",
              "      <td>C2000</td>\n",
              "      <td>Preservation</td>\n",
              "      <td>Co-operative</td>\n",
              "      <td>1</td>\n",
              "      <td>1-9999</td>\n",
              "      <td>N</td>\n",
              "      <td>108590</td>\n",
              "      <td>1</td>\n",
              "    </tr>\n",
              "    <tr>\n",
              "      <th>2</th>\n",
              "      <td>T5</td>\n",
              "      <td>CompanySponsored</td>\n",
              "      <td>C3000</td>\n",
              "      <td>ProductDev</td>\n",
              "      <td>Association</td>\n",
              "      <td>1</td>\n",
              "      <td>0</td>\n",
              "      <td>N</td>\n",
              "      <td>5000</td>\n",
              "      <td>0</td>\n",
              "    </tr>\n",
              "    <tr>\n",
              "      <th>3</th>\n",
              "      <td>T3</td>\n",
              "      <td>CompanySponsored</td>\n",
              "      <td>C2000</td>\n",
              "      <td>Preservation</td>\n",
              "      <td>Trust</td>\n",
              "      <td>1</td>\n",
              "      <td>10000-24999</td>\n",
              "      <td>N</td>\n",
              "      <td>6692</td>\n",
              "      <td>1</td>\n",
              "    </tr>\n",
              "    <tr>\n",
              "      <th>4</th>\n",
              "      <td>T3</td>\n",
              "      <td>Independent</td>\n",
              "      <td>C1000</td>\n",
              "      <td>Heathcare</td>\n",
              "      <td>Trust</td>\n",
              "      <td>1</td>\n",
              "      <td>100000-499999</td>\n",
              "      <td>N</td>\n",
              "      <td>142590</td>\n",
              "      <td>1</td>\n",
              "    </tr>\n",
              "  </tbody>\n",
              "</table>\n",
              "</div>\n",
              "      <button class=\"colab-df-convert\" onclick=\"convertToInteractive('df-ea624d82-b570-4a4f-8669-7b85fa779465')\"\n",
              "              title=\"Convert this dataframe to an interactive table.\"\n",
              "              style=\"display:none;\">\n",
              "        \n",
              "  <svg xmlns=\"http://www.w3.org/2000/svg\" height=\"24px\"viewBox=\"0 0 24 24\"\n",
              "       width=\"24px\">\n",
              "    <path d=\"M0 0h24v24H0V0z\" fill=\"none\"/>\n",
              "    <path d=\"M18.56 5.44l.94 2.06.94-2.06 2.06-.94-2.06-.94-.94-2.06-.94 2.06-2.06.94zm-11 1L8.5 8.5l.94-2.06 2.06-.94-2.06-.94L8.5 2.5l-.94 2.06-2.06.94zm10 10l.94 2.06.94-2.06 2.06-.94-2.06-.94-.94-2.06-.94 2.06-2.06.94z\"/><path d=\"M17.41 7.96l-1.37-1.37c-.4-.4-.92-.59-1.43-.59-.52 0-1.04.2-1.43.59L10.3 9.45l-7.72 7.72c-.78.78-.78 2.05 0 2.83L4 21.41c.39.39.9.59 1.41.59.51 0 1.02-.2 1.41-.59l7.78-7.78 2.81-2.81c.8-.78.8-2.07 0-2.86zM5.41 20L4 18.59l7.72-7.72 1.47 1.35L5.41 20z\"/>\n",
              "  </svg>\n",
              "      </button>\n",
              "      \n",
              "  <style>\n",
              "    .colab-df-container {\n",
              "      display:flex;\n",
              "      flex-wrap:wrap;\n",
              "      gap: 12px;\n",
              "    }\n",
              "\n",
              "    .colab-df-convert {\n",
              "      background-color: #E8F0FE;\n",
              "      border: none;\n",
              "      border-radius: 50%;\n",
              "      cursor: pointer;\n",
              "      display: none;\n",
              "      fill: #1967D2;\n",
              "      height: 32px;\n",
              "      padding: 0 0 0 0;\n",
              "      width: 32px;\n",
              "    }\n",
              "\n",
              "    .colab-df-convert:hover {\n",
              "      background-color: #E2EBFA;\n",
              "      box-shadow: 0px 1px 2px rgba(60, 64, 67, 0.3), 0px 1px 3px 1px rgba(60, 64, 67, 0.15);\n",
              "      fill: #174EA6;\n",
              "    }\n",
              "\n",
              "    [theme=dark] .colab-df-convert {\n",
              "      background-color: #3B4455;\n",
              "      fill: #D2E3FC;\n",
              "    }\n",
              "\n",
              "    [theme=dark] .colab-df-convert:hover {\n",
              "      background-color: #434B5C;\n",
              "      box-shadow: 0px 1px 3px 1px rgba(0, 0, 0, 0.15);\n",
              "      filter: drop-shadow(0px 1px 2px rgba(0, 0, 0, 0.3));\n",
              "      fill: #FFFFFF;\n",
              "    }\n",
              "  </style>\n",
              "\n",
              "      <script>\n",
              "        const buttonEl =\n",
              "          document.querySelector('#df-ea624d82-b570-4a4f-8669-7b85fa779465 button.colab-df-convert');\n",
              "        buttonEl.style.display =\n",
              "          google.colab.kernel.accessAllowed ? 'block' : 'none';\n",
              "\n",
              "        async function convertToInteractive(key) {\n",
              "          const element = document.querySelector('#df-ea624d82-b570-4a4f-8669-7b85fa779465');\n",
              "          const dataTable =\n",
              "            await google.colab.kernel.invokeFunction('convertToInteractive',\n",
              "                                                     [key], {});\n",
              "          if (!dataTable) return;\n",
              "\n",
              "          const docLinkHtml = 'Like what you see? Visit the ' +\n",
              "            '<a target=\"_blank\" href=https://colab.research.google.com/notebooks/data_table.ipynb>data table notebook</a>'\n",
              "            + ' to learn more about interactive tables.';\n",
              "          element.innerHTML = '';\n",
              "          dataTable['output_type'] = 'display_data';\n",
              "          await google.colab.output.renderOutput(dataTable, element);\n",
              "          const docLink = document.createElement('div');\n",
              "          docLink.innerHTML = docLinkHtml;\n",
              "          element.appendChild(docLink);\n",
              "        }\n",
              "      </script>\n",
              "    </div>\n",
              "  </div>\n",
              "  "
            ],
            "text/plain": [
              "  APPLICATION_TYPE       AFFILIATION  ... ASK_AMT IS_SUCCESSFUL\n",
              "0              T10       Independent  ...    5000             1\n",
              "1               T3       Independent  ...  108590             1\n",
              "2               T5  CompanySponsored  ...    5000             0\n",
              "3               T3  CompanySponsored  ...    6692             1\n",
              "4               T3       Independent  ...  142590             1\n",
              "\n",
              "[5 rows x 10 columns]"
            ]
          },
          "metadata": {},
          "execution_count": 8
        }
      ],
      "source": [
        "application_df.head()"
      ]
    },
    {
      "cell_type": "code",
      "execution_count": 9,
      "metadata": {
        "id": "AsLnvJbqo5qJ",
        "outputId": "c26a2371-5303-4b42-f7ff-03b99f4ee027",
        "colab": {
          "base_uri": "https://localhost:8080/"
        }
      },
      "outputs": [
        {
          "output_type": "execute_result",
          "data": {
            "text/plain": [
              "APPLICATION_TYPE            17\n",
              "AFFILIATION                  6\n",
              "CLASSIFICATION              71\n",
              "USE_CASE                     5\n",
              "ORGANIZATION                 4\n",
              "STATUS                       2\n",
              "INCOME_AMT                   9\n",
              "SPECIAL_CONSIDERATIONS       2\n",
              "ASK_AMT                   8747\n",
              "IS_SUCCESSFUL                2\n",
              "dtype: int64"
            ]
          },
          "metadata": {},
          "execution_count": 9
        }
      ],
      "source": [
        "# Determine the number of unique values in each column.\n",
        "application_df.nunique()"
      ]
    },
    {
      "cell_type": "code",
      "execution_count": 10,
      "metadata": {
        "id": "KhChMpYro5qJ",
        "outputId": "133beb0a-bda6-4508-94b2-1db81390e6aa",
        "colab": {
          "base_uri": "https://localhost:8080/"
        }
      },
      "outputs": [
        {
          "output_type": "execute_result",
          "data": {
            "text/plain": [
              "T3     27037\n",
              "T4      1542\n",
              "T6      1216\n",
              "T5      1173\n",
              "T19     1065\n",
              "T8       737\n",
              "T7       725\n",
              "T10      528\n",
              "T9       156\n",
              "T13       66\n",
              "T12       27\n",
              "T2        16\n",
              "T25        3\n",
              "T14        3\n",
              "T29        2\n",
              "T15        2\n",
              "T17        1\n",
              "Name: APPLICATION_TYPE, dtype: int64"
            ]
          },
          "metadata": {},
          "execution_count": 10
        }
      ],
      "source": [
        "# Look at APPLICATION_TYPE value counts for binning\n",
        "application_value = application_df['APPLICATION_TYPE'].value_counts()\n",
        "application_value"
      ]
    },
    {
      "cell_type": "code",
      "source": [
        "# Visualize the value counts of APPLICATION_TYPE\n",
        "application_value.plot.density()"
      ],
      "metadata": {
        "colab": {
          "base_uri": "https://localhost:8080/",
          "height": 282
        },
        "id": "haH7XWcVsEpT",
        "outputId": "15430941-852c-4b3b-f092-e1b243941805"
      },
      "execution_count": 11,
      "outputs": [
        {
          "output_type": "execute_result",
          "data": {
            "text/plain": [
              "<matplotlib.axes._subplots.AxesSubplot at 0x7f9af9820290>"
            ]
          },
          "metadata": {},
          "execution_count": 11
        },
        {
          "output_type": "display_data",
          "data": {
            "image/png": "[encoded data removed]",
            "text/plain": [
              "<Figure size 432x288 with 1 Axes>"
            ]
          },
          "metadata": {
            "needs_background": "light"
          }
        }
      ]
    },
    {
      "cell_type": "code",
      "execution_count": 12,
      "metadata": {
        "id": "CYexIX6Ko5qK",
        "outputId": "43c37c4f-8535-40fc-c6a0-d7b710dfbb70",
        "colab": {
          "base_uri": "https://localhost:8080/"
        }
      },
      "outputs": [
        {
          "output_type": "execute_result",
          "data": {
            "text/plain": [
              "['T9', 'T13', 'T12', 'T2', 'T25', 'T14', 'T29', 'T15', 'T17']"
            ]
          },
          "metadata": {},
          "execution_count": 12
        }
      ],
      "source": [
        "# Choose a cutoff value and create a list of application types to be replaced\n",
        "# use the variable name `application_types_to_replace`\n",
        "application_types_to_replace = list(application_value[application_value < 500].index)\n",
        "application_types_to_replace\n"
      ]
    },
    {
      "cell_type": "code",
      "execution_count": 13,
      "metadata": {
        "id": "IHkcXrOoo5qL",
        "outputId": "f8c4dfde-951e-4cc4-8ac3-bba0eb136934",
        "colab": {
          "base_uri": "https://localhost:8080/"
        }
      },
      "outputs": [
        {
          "output_type": "execute_result",
          "data": {
            "text/plain": [
              "T3       27037\n",
              "T4        1542\n",
              "T6        1216\n",
              "T5        1173\n",
              "T19       1065\n",
              "T8         737\n",
              "T7         725\n",
              "T10        528\n",
              "Other      276\n",
              "Name: APPLICATION_TYPE, dtype: int64"
            ]
          },
          "metadata": {},
          "execution_count": 13
        }
      ],
      "source": [
        "# Replace in dataframe\n",
        "for app in application_types_to_replace:\n",
        "    application_df['APPLICATION_TYPE'] = application_df['APPLICATION_TYPE'].replace(app,\"Other\")\n",
        "\n",
        "# Check to make sure binning was successfull\n",
        "application_df['APPLICATION_TYPE'].value_counts()"
      ]
    },
    {
      "cell_type": "code",
      "execution_count": 14,
      "metadata": {
        "id": "Ja_mW075o5qL",
        "outputId": "2db1dba0-1096-4704-de01-0f5160cb1593",
        "colab": {
          "base_uri": "https://localhost:8080/"
        }
      },
      "outputs": [
        {
          "output_type": "execute_result",
          "data": {
            "text/plain": [
              "C1000    17326\n",
              "C2000     6074\n",
              "C1200     4837\n",
              "C3000     1918\n",
              "C2100     1883\n",
              "         ...  \n",
              "C4120        1\n",
              "C8210        1\n",
              "C2561        1\n",
              "C4500        1\n",
              "C2150        1\n",
              "Name: CLASSIFICATION, Length: 71, dtype: int64"
            ]
          },
          "metadata": {},
          "execution_count": 14
        }
      ],
      "source": [
        "# Look at CLASSIFICATION value counts for binning\n",
        "classification_count_binning = application_df['CLASSIFICATION'].value_counts()\n",
        "classification_count_binning"
      ]
    },
    {
      "cell_type": "code",
      "execution_count": 15,
      "metadata": {
        "id": "tvEDuHVpo5qM",
        "outputId": "4ff383e3-fea4-4ad7-9b4d-9277c04fe994",
        "colab": {
          "base_uri": "https://localhost:8080/"
        }
      },
      "outputs": [
        {
          "output_type": "execute_result",
          "data": {
            "text/plain": [
              "(45,)"
            ]
          },
          "metadata": {},
          "execution_count": 15
        }
      ],
      "source": [
        "# Look at CLASSIFICATION value counts >1\n",
        "counts_classification = classification_count_binning[classification_count_binning > 1]\n",
        "counts_classification.shape"
      ]
    },
    {
      "cell_type": "code",
      "source": [
        "counts_classification"
      ],
      "metadata": {
        "id": "Jrajfqgz4BoY",
        "outputId": "7619d693-d9eb-4e08-babd-a1ccae2b34d0",
        "colab": {
          "base_uri": "https://localhost:8080/"
        }
      },
      "execution_count": 16,
      "outputs": [
        {
          "output_type": "execute_result",
          "data": {
            "text/plain": [
              "C1000    17326\n",
              "C2000     6074\n",
              "C1200     4837\n",
              "C3000     1918\n",
              "C2100     1883\n",
              "C7000      777\n",
              "C1700      287\n",
              "C4000      194\n",
              "C5000      116\n",
              "C1270      114\n",
              "C2700      104\n",
              "C2800       95\n",
              "C7100       75\n",
              "C1300       58\n",
              "C1280       50\n",
              "C1230       36\n",
              "C1400       34\n",
              "C7200       32\n",
              "C2300       32\n",
              "C1240       30\n",
              "C8000       20\n",
              "C7120       18\n",
              "C1500       16\n",
              "C1800       15\n",
              "C6000       15\n",
              "C1250       14\n",
              "C8200       11\n",
              "C1238       10\n",
              "C1278       10\n",
              "C1235        9\n",
              "C1237        9\n",
              "C7210        7\n",
              "C2400        6\n",
              "C1720        6\n",
              "C4100        6\n",
              "C1257        5\n",
              "C1600        5\n",
              "C1260        3\n",
              "C2710        3\n",
              "C0           3\n",
              "C3200        2\n",
              "C1234        2\n",
              "C1246        2\n",
              "C1267        2\n",
              "C1256        2\n",
              "Name: CLASSIFICATION, dtype: int64"
            ]
          },
          "metadata": {},
          "execution_count": 16
        }
      ]
    },
    {
      "cell_type": "code",
      "source": [
        "# Plot look at CLASSIFICATION value counts >1 >10, > 100. 1000n +- 5000 range\n",
        "counts_classification.plot(kind='density')"
      ],
      "metadata": {
        "id": "DTd7g_wxryAY",
        "colab": {
          "base_uri": "https://localhost:8080/",
          "height": 282
        },
        "outputId": "a234b785-18c0-4964-e9f8-0be494057104"
      },
      "execution_count": 17,
      "outputs": [
        {
          "output_type": "execute_result",
          "data": {
            "text/plain": [
              "<matplotlib.axes._subplots.AxesSubplot at 0x7f9af97a9350>"
            ]
          },
          "metadata": {},
          "execution_count": 17
        },
        {
          "output_type": "display_data",
          "data": {
            "image/png": "[encoded data removed]",
            "text/plain": [
              "<Figure size 432x288 with 1 Axes>"
            ]
          },
          "metadata": {
            "needs_background": "light"
          }
        }
      ]
    },
    {
      "cell_type": "code",
      "execution_count": 18,
      "metadata": {
        "id": "w8Ggy68Po5qM",
        "outputId": "8f73024f-ef05-40c8-d0e7-90ade915669c",
        "colab": {
          "base_uri": "https://localhost:8080/"
        }
      },
      "outputs": [
        {
          "output_type": "execute_result",
          "data": {
            "text/plain": [
              "['C7000',\n",
              " 'C1700',\n",
              " 'C4000',\n",
              " 'C5000',\n",
              " 'C1270',\n",
              " 'C2700',\n",
              " 'C2800',\n",
              " 'C7100',\n",
              " 'C1300',\n",
              " 'C1280',\n",
              " 'C1230',\n",
              " 'C1400',\n",
              " 'C7200',\n",
              " 'C2300',\n",
              " 'C1240',\n",
              " 'C8000',\n",
              " 'C7120',\n",
              " 'C1500',\n",
              " 'C1800',\n",
              " 'C6000',\n",
              " 'C1250',\n",
              " 'C8200',\n",
              " 'C1238',\n",
              " 'C1278',\n",
              " 'C1235',\n",
              " 'C1237',\n",
              " 'C7210',\n",
              " 'C2400',\n",
              " 'C1720',\n",
              " 'C4100',\n",
              " 'C1257',\n",
              " 'C1600',\n",
              " 'C1260',\n",
              " 'C2710',\n",
              " 'C0',\n",
              " 'C3200',\n",
              " 'C1234',\n",
              " 'C1246',\n",
              " 'C1267',\n",
              " 'C1256',\n",
              " 'C2190',\n",
              " 'C4200',\n",
              " 'C2600',\n",
              " 'C5200',\n",
              " 'C1370',\n",
              " 'C1248',\n",
              " 'C6100',\n",
              " 'C1820',\n",
              " 'C1900',\n",
              " 'C1236',\n",
              " 'C3700',\n",
              " 'C2570',\n",
              " 'C1580',\n",
              " 'C1245',\n",
              " 'C2500',\n",
              " 'C1570',\n",
              " 'C1283',\n",
              " 'C2380',\n",
              " 'C1732',\n",
              " 'C1728',\n",
              " 'C2170',\n",
              " 'C4120',\n",
              " 'C8210',\n",
              " 'C2561',\n",
              " 'C4500',\n",
              " 'C2150']"
            ]
          },
          "metadata": {},
          "execution_count": 18
        }
      ],
      "source": [
        "# Choose a cutoff value and create a list of classifications to be replaced\n",
        "# use the variable name `classifications_to_replace`\n",
        "classifications_to_replace = list(classification_count_binning[classification_count_binning < 1000].index)\n",
        "classifications_to_replace"
      ]
    },
    {
      "cell_type": "code",
      "source": [
        "len(classifications_to_replace)"
      ],
      "metadata": {
        "colab": {
          "base_uri": "https://localhost:8080/"
        },
        "id": "vpgzaA3WxnSo",
        "outputId": "462219cf-2472-4042-8848-a2515a290a33"
      },
      "execution_count": 19,
      "outputs": [
        {
          "output_type": "execute_result",
          "data": {
            "text/plain": [
              "66"
            ]
          },
          "metadata": {},
          "execution_count": 19
        }
      ]
    },
    {
      "cell_type": "code",
      "execution_count": 20,
      "metadata": {
        "id": "INPTLyM4o5qN",
        "outputId": "9d9c7916-5350-43d1-a77a-201f65f5a061",
        "colab": {
          "base_uri": "https://localhost:8080/"
        }
      },
      "outputs": [
        {
          "output_type": "execute_result",
          "data": {
            "text/plain": [
              "C1000    17326\n",
              "C2000     6074\n",
              "C1200     4837\n",
              "Other     2261\n",
              "C3000     1918\n",
              "C2100     1883\n",
              "Name: CLASSIFICATION, dtype: int64"
            ]
          },
          "metadata": {},
          "execution_count": 20
        }
      ],
      "source": [
        "# Replace in dataframe\n",
        "# taking all those classifications <1000 and put in category as \"Other\"\n",
        "for cls in classifications_to_replace:\n",
        "    application_df['CLASSIFICATION'] = application_df['CLASSIFICATION'].replace(cls,\"Other\")\n",
        "    \n",
        "# Check to make sure binning was successful\n",
        "application_df['CLASSIFICATION'].value_counts()"
      ]
    },
    {
      "cell_type": "code",
      "execution_count": 21,
      "metadata": {
        "id": "RyXkWnIJo5qN",
        "outputId": "52519644-5a7c-44e0-f32a-f13a14efde73",
        "colab": {
          "base_uri": "https://localhost:8080/",
          "height": 288
        }
      },
      "outputs": [
        {
          "output_type": "execute_result",
          "data": {
            "text/html": [
              "\n",
              "  <div id=\"df-b73379ba-798a-4542-b2cb-fd668e29ad48\">\n",
              "    <div class=\"colab-df-container\">\n",
              "      <div>\n",
              "<style scoped>\n",
              "    .dataframe tbody tr th:only-of-type {\n",
              "        vertical-align: middle;\n",
              "    }\n",
              "\n",
              "    .dataframe tbody tr th {\n",
              "        vertical-align: top;\n",
              "    }\n",
              "\n",
              "    .dataframe thead th {\n",
              "        text-align: right;\n",
              "    }\n",
              "</style>\n",
              "<table border=\"1\" class=\"dataframe\">\n",
              "  <thead>\n",
              "    <tr style=\"text-align: right;\">\n",
              "      <th></th>\n",
              "      <th>STATUS</th>\n",
              "      <th>ASK_AMT</th>\n",
              "      <th>IS_SUCCESSFUL</th>\n",
              "      <th>APPLICATION_TYPE_Other</th>\n",
              "      <th>APPLICATION_TYPE_T10</th>\n",
              "      <th>APPLICATION_TYPE_T19</th>\n",
              "      <th>APPLICATION_TYPE_T3</th>\n",
              "      <th>APPLICATION_TYPE_T4</th>\n",
              "      <th>APPLICATION_TYPE_T5</th>\n",
              "      <th>APPLICATION_TYPE_T6</th>\n",
              "      <th>APPLICATION_TYPE_T7</th>\n",
              "      <th>APPLICATION_TYPE_T8</th>\n",
              "      <th>AFFILIATION_CompanySponsored</th>\n",
              "      <th>AFFILIATION_Family/Parent</th>\n",
              "      <th>AFFILIATION_Independent</th>\n",
              "      <th>AFFILIATION_National</th>\n",
              "      <th>AFFILIATION_Other</th>\n",
              "      <th>AFFILIATION_Regional</th>\n",
              "      <th>CLASSIFICATION_C1000</th>\n",
              "      <th>CLASSIFICATION_C1200</th>\n",
              "      <th>CLASSIFICATION_C2000</th>\n",
              "      <th>CLASSIFICATION_C2100</th>\n",
              "      <th>CLASSIFICATION_C3000</th>\n",
              "      <th>CLASSIFICATION_Other</th>\n",
              "      <th>USE_CASE_CommunityServ</th>\n",
              "      <th>USE_CASE_Heathcare</th>\n",
              "      <th>USE_CASE_Other</th>\n",
              "      <th>USE_CASE_Preservation</th>\n",
              "      <th>USE_CASE_ProductDev</th>\n",
              "      <th>ORGANIZATION_Association</th>\n",
              "      <th>ORGANIZATION_Co-operative</th>\n",
              "      <th>ORGANIZATION_Corporation</th>\n",
              "      <th>ORGANIZATION_Trust</th>\n",
              "      <th>INCOME_AMT_0</th>\n",
              "      <th>INCOME_AMT_1-9999</th>\n",
              "      <th>INCOME_AMT_10000-24999</th>\n",
              "      <th>INCOME_AMT_100000-499999</th>\n",
              "      <th>INCOME_AMT_10M-50M</th>\n",
              "      <th>INCOME_AMT_1M-5M</th>\n",
              "      <th>INCOME_AMT_25000-99999</th>\n",
              "      <th>INCOME_AMT_50M+</th>\n",
              "      <th>INCOME_AMT_5M-10M</th>\n",
              "      <th>SPECIAL_CONSIDERATIONS_N</th>\n",
              "      <th>SPECIAL_CONSIDERATIONS_Y</th>\n",
              "    </tr>\n",
              "  </thead>\n",
              "  <tbody>\n",
              "    <tr>\n",
              "      <th>0</th>\n",
              "      <td>1</td>\n",
              "      <td>5000</td>\n",
              "      <td>1</td>\n",
              "      <td>0.0</td>\n",
              "      <td>1.0</td>\n",
              "      <td>0.0</td>\n",
              "      <td>0.0</td>\n",
              "      <td>0.0</td>\n",
              "      <td>0.0</td>\n",
              "      <td>0.0</td>\n",
              "      <td>0.0</td>\n",
              "      <td>0.0</td>\n",
              "      <td>0.0</td>\n",
              "      <td>0.0</td>\n",
              "      <td>1.0</td>\n",
              "      <td>0.0</td>\n",
              "      <td>0.0</td>\n",
              "      <td>0.0</td>\n",
              "      <td>1.0</td>\n",
              "      <td>0.0</td>\n",
              "      <td>0.0</td>\n",
              "      <td>0.0</td>\n",
              "      <td>0.0</td>\n",
              "      <td>0.0</td>\n",
              "      <td>0.0</td>\n",
              "      <td>0.0</td>\n",
              "      <td>0.0</td>\n",
              "      <td>0.0</td>\n",
              "      <td>1.0</td>\n",
              "      <td>1.0</td>\n",
              "      <td>0.0</td>\n",
              "      <td>0.0</td>\n",
              "      <td>0.0</td>\n",
              "      <td>1.0</td>\n",
              "      <td>0.0</td>\n",
              "      <td>0.0</td>\n",
              "      <td>0.0</td>\n",
              "      <td>0.0</td>\n",
              "      <td>0.0</td>\n",
              "      <td>0.0</td>\n",
              "      <td>0.0</td>\n",
              "      <td>0.0</td>\n",
              "      <td>1.0</td>\n",
              "      <td>0.0</td>\n",
              "    </tr>\n",
              "    <tr>\n",
              "      <th>1</th>\n",
              "      <td>1</td>\n",
              "      <td>108590</td>\n",
              "      <td>1</td>\n",
              "      <td>0.0</td>\n",
              "      <td>0.0</td>\n",
              "      <td>0.0</td>\n",
              "      <td>1.0</td>\n",
              "      <td>0.0</td>\n",
              "      <td>0.0</td>\n",
              "      <td>0.0</td>\n",
              "      <td>0.0</td>\n",
              "      <td>0.0</td>\n",
              "      <td>0.0</td>\n",
              "      <td>0.0</td>\n",
              "      <td>1.0</td>\n",
              "      <td>0.0</td>\n",
              "      <td>0.0</td>\n",
              "      <td>0.0</td>\n",
              "      <td>0.0</td>\n",
              "      <td>0.0</td>\n",
              "      <td>1.0</td>\n",
              "      <td>0.0</td>\n",
              "      <td>0.0</td>\n",
              "      <td>0.0</td>\n",
              "      <td>0.0</td>\n",
              "      <td>0.0</td>\n",
              "      <td>0.0</td>\n",
              "      <td>1.0</td>\n",
              "      <td>0.0</td>\n",
              "      <td>0.0</td>\n",
              "      <td>1.0</td>\n",
              "      <td>0.0</td>\n",
              "      <td>0.0</td>\n",
              "      <td>0.0</td>\n",
              "      <td>1.0</td>\n",
              "      <td>0.0</td>\n",
              "      <td>0.0</td>\n",
              "      <td>0.0</td>\n",
              "      <td>0.0</td>\n",
              "      <td>0.0</td>\n",
              "      <td>0.0</td>\n",
              "      <td>0.0</td>\n",
              "      <td>1.0</td>\n",
              "      <td>0.0</td>\n",
              "    </tr>\n",
              "    <tr>\n",
              "      <th>2</th>\n",
              "      <td>1</td>\n",
              "      <td>5000</td>\n",
              "      <td>0</td>\n",
              "      <td>0.0</td>\n",
              "      <td>0.0</td>\n",
              "      <td>0.0</td>\n",
              "      <td>0.0</td>\n",
              "      <td>0.0</td>\n",
              "      <td>1.0</td>\n",
              "      <td>0.0</td>\n",
              "      <td>0.0</td>\n",
              "      <td>0.0</td>\n",
              "      <td>1.0</td>\n",
              "      <td>0.0</td>\n",
              "      <td>0.0</td>\n",
              "      <td>0.0</td>\n",
              "      <td>0.0</td>\n",
              "      <td>0.0</td>\n",
              "      <td>0.0</td>\n",
              "      <td>0.0</td>\n",
              "      <td>0.0</td>\n",
              "      <td>0.0</td>\n",
              "      <td>1.0</td>\n",
              "      <td>0.0</td>\n",
              "      <td>0.0</td>\n",
              "      <td>0.0</td>\n",
              "      <td>0.0</td>\n",
              "      <td>0.0</td>\n",
              "      <td>1.0</td>\n",
              "      <td>1.0</td>\n",
              "      <td>0.0</td>\n",
              "      <td>0.0</td>\n",
              "      <td>0.0</td>\n",
              "      <td>1.0</td>\n",
              "      <td>0.0</td>\n",
              "      <td>0.0</td>\n",
              "      <td>0.0</td>\n",
              "      <td>0.0</td>\n",
              "      <td>0.0</td>\n",
              "      <td>0.0</td>\n",
              "      <td>0.0</td>\n",
              "      <td>0.0</td>\n",
              "      <td>1.0</td>\n",
              "      <td>0.0</td>\n",
              "    </tr>\n",
              "    <tr>\n",
              "      <th>3</th>\n",
              "      <td>1</td>\n",
              "      <td>6692</td>\n",
              "      <td>1</td>\n",
              "      <td>0.0</td>\n",
              "      <td>0.0</td>\n",
              "      <td>0.0</td>\n",
              "      <td>1.0</td>\n",
              "      <td>0.0</td>\n",
              "      <td>0.0</td>\n",
              "      <td>0.0</td>\n",
              "      <td>0.0</td>\n",
              "      <td>0.0</td>\n",
              "      <td>1.0</td>\n",
              "      <td>0.0</td>\n",
              "      <td>0.0</td>\n",
              "      <td>0.0</td>\n",
              "      <td>0.0</td>\n",
              "      <td>0.0</td>\n",
              "      <td>0.0</td>\n",
              "      <td>0.0</td>\n",
              "      <td>1.0</td>\n",
              "      <td>0.0</td>\n",
              "      <td>0.0</td>\n",
              "      <td>0.0</td>\n",
              "      <td>0.0</td>\n",
              "      <td>0.0</td>\n",
              "      <td>0.0</td>\n",
              "      <td>1.0</td>\n",
              "      <td>0.0</td>\n",
              "      <td>0.0</td>\n",
              "      <td>0.0</td>\n",
              "      <td>0.0</td>\n",
              "      <td>1.0</td>\n",
              "      <td>0.0</td>\n",
              "      <td>0.0</td>\n",
              "      <td>1.0</td>\n",
              "      <td>0.0</td>\n",
              "      <td>0.0</td>\n",
              "      <td>0.0</td>\n",
              "      <td>0.0</td>\n",
              "      <td>0.0</td>\n",
              "      <td>0.0</td>\n",
              "      <td>1.0</td>\n",
              "      <td>0.0</td>\n",
              "    </tr>\n",
              "    <tr>\n",
              "      <th>4</th>\n",
              "      <td>1</td>\n",
              "      <td>142590</td>\n",
              "      <td>1</td>\n",
              "      <td>0.0</td>\n",
              "      <td>0.0</td>\n",
              "      <td>0.0</td>\n",
              "      <td>1.0</td>\n",
              "      <td>0.0</td>\n",
              "      <td>0.0</td>\n",
              "      <td>0.0</td>\n",
              "      <td>0.0</td>\n",
              "      <td>0.0</td>\n",
              "      <td>0.0</td>\n",
              "      <td>0.0</td>\n",
              "      <td>1.0</td>\n",
              "      <td>0.0</td>\n",
              "      <td>0.0</td>\n",
              "      <td>0.0</td>\n",
              "      <td>1.0</td>\n",
              "      <td>0.0</td>\n",
              "      <td>0.0</td>\n",
              "      <td>0.0</td>\n",
              "      <td>0.0</td>\n",
              "      <td>0.0</td>\n",
              "      <td>0.0</td>\n",
              "      <td>1.0</td>\n",
              "      <td>0.0</td>\n",
              "      <td>0.0</td>\n",
              "      <td>0.0</td>\n",
              "      <td>0.0</td>\n",
              "      <td>0.0</td>\n",
              "      <td>0.0</td>\n",
              "      <td>1.0</td>\n",
              "      <td>0.0</td>\n",
              "      <td>0.0</td>\n",
              "      <td>0.0</td>\n",
              "      <td>1.0</td>\n",
              "      <td>0.0</td>\n",
              "      <td>0.0</td>\n",
              "      <td>0.0</td>\n",
              "      <td>0.0</td>\n",
              "      <td>0.0</td>\n",
              "      <td>1.0</td>\n",
              "      <td>0.0</td>\n",
              "    </tr>\n",
              "  </tbody>\n",
              "</table>\n",
              "</div>\n",
              "      <button class=\"colab-df-convert\" onclick=\"convertToInteractive('df-b73379ba-798a-4542-b2cb-fd668e29ad48')\"\n",
              "              title=\"Convert this dataframe to an interactive table.\"\n",
              "              style=\"display:none;\">\n",
              "        \n",
              "  <svg xmlns=\"http://www.w3.org/2000/svg\" height=\"24px\"viewBox=\"0 0 24 24\"\n",
              "       width=\"24px\">\n",
              "    <path d=\"M0 0h24v24H0V0z\" fill=\"none\"/>\n",
              "    <path d=\"M18.56 5.44l.94 2.06.94-2.06 2.06-.94-2.06-.94-.94-2.06-.94 2.06-2.06.94zm-11 1L8.5 8.5l.94-2.06 2.06-.94-2.06-.94L8.5 2.5l-.94 2.06-2.06.94zm10 10l.94 2.06.94-2.06 2.06-.94-2.06-.94-.94-2.06-.94 2.06-2.06.94z\"/><path d=\"M17.41 7.96l-1.37-1.37c-.4-.4-.92-.59-1.43-.59-.52 0-1.04.2-1.43.59L10.3 9.45l-7.72 7.72c-.78.78-.78 2.05 0 2.83L4 21.41c.39.39.9.59 1.41.59.51 0 1.02-.2 1.41-.59l7.78-7.78 2.81-2.81c.8-.78.8-2.07 0-2.86zM5.41 20L4 18.59l7.72-7.72 1.47 1.35L5.41 20z\"/>\n",
              "  </svg>\n",
              "      </button>\n",
              "      \n",
              "  <style>\n",
              "    .colab-df-container {\n",
              "      display:flex;\n",
              "      flex-wrap:wrap;\n",
              "      gap: 12px;\n",
              "    }\n",
              "\n",
              "    .colab-df-convert {\n",
              "      background-color: #E8F0FE;\n",
              "      border: none;\n",
              "      border-radius: 50%;\n",
              "      cursor: pointer;\n",
              "      display: none;\n",
              "      fill: #1967D2;\n",
              "      height: 32px;\n",
              "      padding: 0 0 0 0;\n",
              "      width: 32px;\n",
              "    }\n",
              "\n",
              "    .colab-df-convert:hover {\n",
              "      background-color: #E2EBFA;\n",
              "      box-shadow: 0px 1px 2px rgba(60, 64, 67, 0.3), 0px 1px 3px 1px rgba(60, 64, 67, 0.15);\n",
              "      fill: #174EA6;\n",
              "    }\n",
              "\n",
              "    [theme=dark] .colab-df-convert {\n",
              "      background-color: #3B4455;\n",
              "      fill: #D2E3FC;\n",
              "    }\n",
              "\n",
              "    [theme=dark] .colab-df-convert:hover {\n",
              "      background-color: #434B5C;\n",
              "      box-shadow: 0px 1px 3px 1px rgba(0, 0, 0, 0.15);\n",
              "      filter: drop-shadow(0px 1px 2px rgba(0, 0, 0, 0.3));\n",
              "      fill: #FFFFFF;\n",
              "    }\n",
              "  </style>\n",
              "\n",
              "      <script>\n",
              "        const buttonEl =\n",
              "          document.querySelector('#df-b73379ba-798a-4542-b2cb-fd668e29ad48 button.colab-df-convert');\n",
              "        buttonEl.style.display =\n",
              "          google.colab.kernel.accessAllowed ? 'block' : 'none';\n",
              "\n",
              "        async function convertToInteractive(key) {\n",
              "          const element = document.querySelector('#df-b73379ba-798a-4542-b2cb-fd668e29ad48');\n",
              "          const dataTable =\n",
              "            await google.colab.kernel.invokeFunction('convertToInteractive',\n",
              "                                                     [key], {});\n",
              "          if (!dataTable) return;\n",
              "\n",
              "          const docLinkHtml = 'Like what you see? Visit the ' +\n",
              "            '<a target=\"_blank\" href=https://colab.research.google.com/notebooks/data_table.ipynb>data table notebook</a>'\n",
              "            + ' to learn more about interactive tables.';\n",
              "          element.innerHTML = '';\n",
              "          dataTable['output_type'] = 'display_data';\n",
              "          await google.colab.output.renderOutput(dataTable, element);\n",
              "          const docLink = document.createElement('div');\n",
              "          docLink.innerHTML = docLinkHtml;\n",
              "          element.appendChild(docLink);\n",
              "        }\n",
              "      </script>\n",
              "    </div>\n",
              "  </div>\n",
              "  "
            ],
            "text/plain": [
              "   STATUS  ASK_AMT  ...  SPECIAL_CONSIDERATIONS_N  SPECIAL_CONSIDERATIONS_Y\n",
              "0       1     5000  ...                       1.0                       0.0\n",
              "1       1   108590  ...                       1.0                       0.0\n",
              "2       1     5000  ...                       1.0                       0.0\n",
              "3       1     6692  ...                       1.0                       0.0\n",
              "4       1   142590  ...                       1.0                       0.0\n",
              "\n",
              "[5 rows x 44 columns]"
            ]
          },
          "metadata": {},
          "execution_count": 21
        }
      ],
      "source": [
        "# Convert categorical data to numeric with `pd.get_dummies`\n",
        "# One hot encoding\n",
        "application_df = pd.get_dummies(application_df,dtype=float)\n",
        "application_df.head()"
      ]
    },
    {
      "cell_type": "code",
      "source": [
        "application_df.shape"
      ],
      "metadata": {
        "colab": {
          "base_uri": "https://localhost:8080/"
        },
        "id": "_ue_LwHLc18V",
        "outputId": "a79b0b4b-fd0f-4d89-8d74-c222b066283d"
      },
      "execution_count": 22,
      "outputs": [
        {
          "output_type": "execute_result",
          "data": {
            "text/plain": [
              "(34299, 44)"
            ]
          },
          "metadata": {},
          "execution_count": 22
        }
      ]
    },
    {
      "cell_type": "code",
      "source": [
        "application_df.columns"
      ],
      "metadata": {
        "colab": {
          "base_uri": "https://localhost:8080/"
        },
        "id": "jZ_5V022lyh5",
        "outputId": "f479427d-b1a6-43ec-cccc-87532a2d018f"
      },
      "execution_count": 23,
      "outputs": [
        {
          "output_type": "execute_result",
          "data": {
            "text/plain": [
              "Index(['STATUS', 'ASK_AMT', 'IS_SUCCESSFUL', 'APPLICATION_TYPE_Other',\n",
              "       'APPLICATION_TYPE_T10', 'APPLICATION_TYPE_T19', 'APPLICATION_TYPE_T3',\n",
              "       'APPLICATION_TYPE_T4', 'APPLICATION_TYPE_T5', 'APPLICATION_TYPE_T6',\n",
              "       'APPLICATION_TYPE_T7', 'APPLICATION_TYPE_T8',\n",
              "       'AFFILIATION_CompanySponsored', 'AFFILIATION_Family/Parent',\n",
              "       'AFFILIATION_Independent', 'AFFILIATION_National', 'AFFILIATION_Other',\n",
              "       'AFFILIATION_Regional', 'CLASSIFICATION_C1000', 'CLASSIFICATION_C1200',\n",
              "       'CLASSIFICATION_C2000', 'CLASSIFICATION_C2100', 'CLASSIFICATION_C3000',\n",
              "       'CLASSIFICATION_Other', 'USE_CASE_CommunityServ', 'USE_CASE_Heathcare',\n",
              "       'USE_CASE_Other', 'USE_CASE_Preservation', 'USE_CASE_ProductDev',\n",
              "       'ORGANIZATION_Association', 'ORGANIZATION_Co-operative',\n",
              "       'ORGANIZATION_Corporation', 'ORGANIZATION_Trust', 'INCOME_AMT_0',\n",
              "       'INCOME_AMT_1-9999', 'INCOME_AMT_10000-24999',\n",
              "       'INCOME_AMT_100000-499999', 'INCOME_AMT_10M-50M', 'INCOME_AMT_1M-5M',\n",
              "       'INCOME_AMT_25000-99999', 'INCOME_AMT_50M+', 'INCOME_AMT_5M-10M',\n",
              "       'SPECIAL_CONSIDERATIONS_N', 'SPECIAL_CONSIDERATIONS_Y'],\n",
              "      dtype='object')"
            ]
          },
          "metadata": {},
          "execution_count": 23
        }
      ]
    },
    {
      "cell_type": "code",
      "execution_count": 24,
      "metadata": {
        "id": "n05tHaNfo5qN",
        "outputId": "f3b5ccc5-2776-441e-95d3-f1cc20bcf35e",
        "colab": {
          "base_uri": "https://localhost:8080/"
        }
      },
      "outputs": [
        {
          "output_type": "execute_result",
          "data": {
            "text/plain": [
              "array([1, 1, 0, ..., 0, 1, 0])"
            ]
          },
          "metadata": {},
          "execution_count": 24
        }
      ],
      "source": [
        "# Split our preprocessed data into our features and target arrays\n",
        "y = application_df['IS_SUCCESSFUL'].values\n",
        "y"
      ]
    },
    {
      "cell_type": "code",
      "execution_count": 25,
      "metadata": {
        "id": "WGXaxl_Vo5qN",
        "colab": {
          "base_uri": "https://localhost:8080/"
        },
        "outputId": "feac6929-3f7a-45f5-b4a0-c9fcbe2c3d53"
      },
      "outputs": [
        {
          "output_type": "execute_result",
          "data": {
            "text/plain": [
              "array([[1.0000000e+00, 5.0000000e+03, 0.0000000e+00, ..., 0.0000000e+00,\n",
              "        1.0000000e+00, 0.0000000e+00],\n",
              "       [1.0000000e+00, 1.0859000e+05, 0.0000000e+00, ..., 0.0000000e+00,\n",
              "        1.0000000e+00, 0.0000000e+00],\n",
              "       [1.0000000e+00, 5.0000000e+03, 0.0000000e+00, ..., 0.0000000e+00,\n",
              "        1.0000000e+00, 0.0000000e+00],\n",
              "       ...,\n",
              "       [1.0000000e+00, 5.0000000e+03, 0.0000000e+00, ..., 0.0000000e+00,\n",
              "        1.0000000e+00, 0.0000000e+00],\n",
              "       [1.0000000e+00, 5.0000000e+03, 0.0000000e+00, ..., 0.0000000e+00,\n",
              "        1.0000000e+00, 0.0000000e+00],\n",
              "       [1.0000000e+00, 3.6500179e+07, 0.0000000e+00, ..., 0.0000000e+00,\n",
              "        1.0000000e+00, 0.0000000e+00]])"
            ]
          },
          "metadata": {},
          "execution_count": 25
        }
      ],
      "source": [
        "# Drop the 'IS_SUCCESSFUL' from the features\n",
        "X = application_df.drop('IS_SUCCESSFUL', axis=1).values\n",
        "X"
      ]
    },
    {
      "cell_type": "code",
      "execution_count": 26,
      "metadata": {
        "id": "4tHp9zwoo5qO"
      },
      "outputs": [],
      "source": [
        "# Split the preprocessed data into a training and testing dataset\n",
        "X_train, X_test, y_train, y_test = train_test_split(X,y,random_state = 42)"
      ]
    },
    {
      "cell_type": "code",
      "execution_count": 27,
      "metadata": {
        "id": "ZRXGVYtDo5qO",
        "outputId": "d466760b-ac1f-46f5-e868-d1af5967813f",
        "colab": {
          "base_uri": "https://localhost:8080/"
        }
      },
      "outputs": [
        {
          "output_type": "execute_result",
          "data": {
            "text/plain": [
              "((25724, 43), (25724,))"
            ]
          },
          "metadata": {},
          "execution_count": 27
        }
      ],
      "source": [
        "X_train.shape, y_train.shape"
      ]
    },
    {
      "cell_type": "code",
      "execution_count": 28,
      "metadata": {
        "id": "X87XGVqno5qO"
      },
      "outputs": [],
      "source": [
        "# Create a StandardScaler instances\n",
        "scaler = StandardScaler()\n",
        "\n",
        "# Fit the StandardScaler\n",
        "X_scaler = scaler.fit(X_train)\n",
        "\n",
        "# Scale the data\n",
        "X_train_scaled = X_scaler.transform(X_train)\n",
        "X_test_scaled = X_scaler.transform(X_test)"
      ]
    },
    {
      "cell_type": "markdown",
      "metadata": {
        "id": "sEBAiX9Qo5qO"
      },
      "source": [
        "## Compile, Train and Evaluate the Model"
      ]
    },
    {
      "cell_type": "code",
      "execution_count": 29,
      "metadata": {
        "id": "v8_Gv3V2o5qO",
        "outputId": "8d50ac7b-0922-4efb-c2c9-3d7c30a807cd",
        "colab": {
          "base_uri": "https://localhost:8080/"
        }
      },
      "outputs": [
        {
          "output_type": "stream",
          "name": "stdout",
          "text": [
            "Model: \"sequential\"\n",
            "_________________________________________________________________\n",
            " Layer (type)                Output Shape              Param #   \n",
            "=================================================================\n",
            " dense (Dense)               (None, 80)                3520      \n",
            "                                                                 \n",
            " dense_1 (Dense)             (None, 30)                2430      \n",
            "                                                                 \n",
            " dense_2 (Dense)             (None, 10)                310       \n",
            "                                                                 \n",
            " dense_3 (Dense)             (None, 1)                 11        \n",
            "                                                                 \n",
            "=================================================================\n",
            "Total params: 6,271\n",
            "Trainable params: 6,271\n",
            "Non-trainable params: 0\n",
            "_________________________________________________________________\n"
          ]
        }
      ],
      "source": [
        "# Define the model - deep neural net, i.e., the number of input features and hidden nodes for each layer.\n",
        "\n",
        "# Increased layers to 3 \n",
        "number_input_features = len( X_train_scaled[0])\n",
        "hidden_nodes_layer1=80\n",
        "hidden_nodes_layer2=30\n",
        "hidden_nodes_layer3=10\n",
        "\n",
        "nn = tf.keras.models.Sequential()\n",
        "\n",
        "# First hidden layer\n",
        "nn.add(tf.keras.layers.Dense(units=hidden_nodes_layer1, input_dim=number_input_features, activation='relu'))\n",
        "\n",
        "# Second hidden layer\n",
        "nn.add(tf.keras.layers.Dense(units=hidden_nodes_layer2, activation='relu'))\n",
        "\n",
        "# Third hidden layer\n",
        "nn.add(tf.keras.layers.Dense(units=hidden_nodes_layer3, activation='relu'))\n",
        "\n",
        "\n",
        "# Output layer\n",
        "nn.add(tf.keras.layers.Dense(units=1, activation='sigmoid'))\n",
        "\n",
        "# Check the structure of the model\n",
        "nn.summary()"
      ]
    },
    {
      "cell_type": "code",
      "source": [
        "from tensorflow.keras.utils import plot_model\n",
        "# summarize the model\n",
        "images_dir = '/content/drive/MyDrive/Colab Notebooks/Deep-Learning/Images'\n",
        "plot_model(nn, f'{images_dir}/AlphabetSoupModelOptimized1.png', show_shapes=True)"
      ],
      "metadata": {
        "colab": {
          "base_uri": "https://localhost:8080/",
          "height": 533
        },
        "id": "EFb7ay5S3BTX",
        "outputId": "d6e3605f-0b82-4b53-bbb4-54f1c0641b9b"
      },
      "execution_count": 30,
      "outputs": [
        {
          "output_type": "execute_result",
          "data": {
            "image/png": "[encoded data removed]",
            "text/plain": [
              "<IPython.core.display.Image object>"
            ]
          },
          "metadata": {},
          "execution_count": 30
        }
      ]
    },
    {
      "cell_type": "code",
      "execution_count": 31,
      "metadata": {
        "id": "PZh9sC7go5qO"
      },
      "outputs": [],
      "source": [
        "# Compile the model\n",
        "nn.compile(loss = 'binary_crossentropy', optimizer = 'adam', metrics=['accuracy', tf.keras.metrics.Recall()])\n",
        "\n"
      ]
    },
    {
      "cell_type": "code",
      "source": [
        "# Callback to save every 5, use this for optimizer\n",
        "# Model to compile and train every 5 epochs below in train\n",
        "\n",
        "batch_size=100\n",
        "cp_callback = ModelCheckpoint(\n",
        "    filepath=checkpoint_path, \n",
        "    verbose=1, \n",
        "    save_weights_only=True,\n",
        "    save_freq= int(batch_size*13))\n"
      ],
      "metadata": {
        "id": "3EgUdMMBf-Cs"
      },
      "execution_count": 32,
      "outputs": []
    },
    {
      "cell_type": "code",
      "source": [
        "# Train the model. \n",
        "fit_model = nn.fit(X_train_scaled,y_train, epochs=100, batch_size=batch_size, callbacks=[cp_callback]) "
      ],
      "metadata": {
        "id": "Psjz4UT0pvCi",
        "colab": {
          "base_uri": "https://localhost:8080/"
        },
        "outputId": "947dc885-a68f-47cd-b0f9-604c4d077a0f"
      },
      "execution_count": 33,
      "outputs": [
        {
          "output_type": "stream",
          "name": "stdout",
          "text": [
            "Epoch 1/100\n",
            "258/258 [==============================] - 3s 4ms/step - loss: 0.5839 - accuracy: 0.7065 - recall: 0.7512\n",
            "Epoch 2/100\n",
            "258/258 [==============================] - 1s 3ms/step - loss: 0.5557 - accuracy: 0.7297 - recall: 0.7841\n",
            "Epoch 3/100\n",
            "258/258 [==============================] - 1s 4ms/step - loss: 0.5512 - accuracy: 0.7307 - recall: 0.7833\n",
            "Epoch 4/100\n",
            "258/258 [==============================] - 1s 4ms/step - loss: 0.5500 - accuracy: 0.7305 - recall: 0.7857\n",
            "Epoch 5/100\n",
            "258/258 [==============================] - 1s 4ms/step - loss: 0.5479 - accuracy: 0.7317 - recall: 0.7896\n",
            "Epoch 6/100\n",
            "  1/258 [..............................] - ETA: 6s - loss: 0.5543 - accuracy: 0.7400 - recall: 0.8125\n",
            "Epoch 00006: saving model to /content/drive/MyDrive/Colab Notebooks/Deep-Learning/checkpoints/weights.06.hdf5\n",
            "258/258 [==============================] - 1s 5ms/step - loss: 0.5467 - accuracy: 0.7330 - recall: 0.7887\n",
            "Epoch 7/100\n",
            "258/258 [==============================] - 1s 4ms/step - loss: 0.5464 - accuracy: 0.7313 - recall: 0.7887\n",
            "Epoch 8/100\n",
            "258/258 [==============================] - 1s 4ms/step - loss: 0.5455 - accuracy: 0.7339 - recall: 0.7913\n",
            "Epoch 9/100\n",
            "258/258 [==============================] - 1s 4ms/step - loss: 0.5452 - accuracy: 0.7325 - recall: 0.7889\n",
            "Epoch 10/100\n",
            "258/258 [==============================] - 1s 3ms/step - loss: 0.5443 - accuracy: 0.7332 - recall: 0.7931\n",
            "Epoch 11/100\n",
            " 17/258 [>.............................] - ETA: 0s - loss: 0.5533 - accuracy: 0.7224 - recall: 0.8037\n",
            "Epoch 00011: saving model to /content/drive/MyDrive/Colab Notebooks/Deep-Learning/checkpoints/weights.11.hdf5\n",
            "258/258 [==============================] - 1s 4ms/step - loss: 0.5444 - accuracy: 0.7343 - recall: 0.7914\n",
            "Epoch 12/100\n",
            "258/258 [==============================] - 1s 4ms/step - loss: 0.5437 - accuracy: 0.7336 - recall: 0.7939\n",
            "Epoch 13/100\n",
            "258/258 [==============================] - 1s 4ms/step - loss: 0.5437 - accuracy: 0.7352 - recall: 0.7951\n",
            "Epoch 14/100\n",
            "258/258 [==============================] - 1s 3ms/step - loss: 0.5432 - accuracy: 0.7338 - recall: 0.7920\n",
            "Epoch 15/100\n",
            "258/258 [==============================] - 1s 3ms/step - loss: 0.5422 - accuracy: 0.7351 - recall: 0.7920\n",
            "Epoch 16/100\n",
            " 18/258 [=>............................] - ETA: 0s - loss: 0.5468 - accuracy: 0.7350 - recall: 0.7996\n",
            "Epoch 00016: saving model to /content/drive/MyDrive/Colab Notebooks/Deep-Learning/checkpoints/weights.16.hdf5\n",
            "258/258 [==============================] - 1s 4ms/step - loss: 0.5427 - accuracy: 0.7353 - recall: 0.7900\n",
            "Epoch 17/100\n",
            "258/258 [==============================] - 1s 2ms/step - loss: 0.5423 - accuracy: 0.7354 - recall: 0.7906\n",
            "Epoch 18/100\n",
            "258/258 [==============================] - 1s 2ms/step - loss: 0.5415 - accuracy: 0.7355 - recall: 0.7955\n",
            "Epoch 19/100\n",
            "258/258 [==============================] - 1s 2ms/step - loss: 0.5412 - accuracy: 0.7344 - recall: 0.8003\n",
            "Epoch 20/100\n",
            "258/258 [==============================] - 1s 2ms/step - loss: 0.5415 - accuracy: 0.7362 - recall: 0.7981\n",
            "Epoch 21/100\n",
            " 29/258 [==>...........................] - ETA: 0s - loss: 0.5341 - accuracy: 0.7452 - recall: 0.7995\n",
            "Epoch 00021: saving model to /content/drive/MyDrive/Colab Notebooks/Deep-Learning/checkpoints/weights.21.hdf5\n",
            "258/258 [==============================] - 1s 2ms/step - loss: 0.5409 - accuracy: 0.7366 - recall: 0.7946\n",
            "Epoch 22/100\n",
            "258/258 [==============================] - 0s 2ms/step - loss: 0.5412 - accuracy: 0.7357 - recall: 0.7980\n",
            "Epoch 23/100\n",
            "258/258 [==============================] - 1s 2ms/step - loss: 0.5401 - accuracy: 0.7359 - recall: 0.7941\n",
            "Epoch 24/100\n",
            "258/258 [==============================] - 1s 2ms/step - loss: 0.5411 - accuracy: 0.7360 - recall: 0.7942\n",
            "Epoch 25/100\n",
            "258/258 [==============================] - 1s 2ms/step - loss: 0.5406 - accuracy: 0.7362 - recall: 0.7933\n",
            "Epoch 26/100\n",
            " 25/258 [=>............................] - ETA: 0s - loss: 0.5427 - accuracy: 0.7320 - recall: 0.7944\n",
            "Epoch 00026: saving model to /content/drive/MyDrive/Colab Notebooks/Deep-Learning/checkpoints/weights.26.hdf5\n",
            "258/258 [==============================] - 1s 2ms/step - loss: 0.5401 - accuracy: 0.7364 - recall: 0.7998\n",
            "Epoch 27/100\n",
            "258/258 [==============================] - 1s 2ms/step - loss: 0.5396 - accuracy: 0.7372 - recall: 0.7973\n",
            "Epoch 28/100\n",
            "258/258 [==============================] - 1s 2ms/step - loss: 0.5395 - accuracy: 0.7376 - recall: 0.7986\n",
            "Epoch 29/100\n",
            "258/258 [==============================] - 1s 2ms/step - loss: 0.5393 - accuracy: 0.7365 - recall: 0.7961\n",
            "Epoch 30/100\n",
            "258/258 [==============================] - 1s 2ms/step - loss: 0.5396 - accuracy: 0.7367 - recall: 0.7921\n",
            "Epoch 31/100\n",
            " 52/258 [=====>........................] - ETA: 0s - loss: 0.5441 - accuracy: 0.7375 - recall: 0.7988\n",
            "Epoch 00031: saving model to /content/drive/MyDrive/Colab Notebooks/Deep-Learning/checkpoints/weights.31.hdf5\n",
            "258/258 [==============================] - 1s 2ms/step - loss: 0.5394 - accuracy: 0.7365 - recall: 0.7974\n",
            "Epoch 32/100\n",
            "258/258 [==============================] - 1s 2ms/step - loss: 0.5389 - accuracy: 0.7373 - recall: 0.7946\n",
            "Epoch 33/100\n",
            "258/258 [==============================] - 1s 2ms/step - loss: 0.5393 - accuracy: 0.7367 - recall: 0.7927\n",
            "Epoch 34/100\n",
            "258/258 [==============================] - 1s 2ms/step - loss: 0.5394 - accuracy: 0.7371 - recall: 0.7981\n",
            "Epoch 35/100\n",
            "258/258 [==============================] - 1s 2ms/step - loss: 0.5383 - accuracy: 0.7377 - recall: 0.7957\n",
            "Epoch 36/100\n",
            " 50/258 [====>.........................] - ETA: 0s - loss: 0.5336 - accuracy: 0.7444 - recall: 0.8039\n",
            "Epoch 00036: saving model to /content/drive/MyDrive/Colab Notebooks/Deep-Learning/checkpoints/weights.36.hdf5\n",
            "258/258 [==============================] - 1s 2ms/step - loss: 0.5389 - accuracy: 0.7379 - recall: 0.8001\n",
            "Epoch 37/100\n",
            "258/258 [==============================] - 1s 2ms/step - loss: 0.5384 - accuracy: 0.7377 - recall: 0.7971\n",
            "Epoch 38/100\n",
            "258/258 [==============================] - 0s 2ms/step - loss: 0.5386 - accuracy: 0.7373 - recall: 0.7982\n",
            "Epoch 39/100\n",
            "258/258 [==============================] - 1s 2ms/step - loss: 0.5388 - accuracy: 0.7376 - recall: 0.7958\n",
            "Epoch 40/100\n",
            "258/258 [==============================] - 0s 2ms/step - loss: 0.5382 - accuracy: 0.7373 - recall: 0.7945\n",
            "Epoch 41/100\n",
            " 56/258 [=====>........................] - ETA: 0s - loss: 0.5364 - accuracy: 0.7402 - recall: 0.8049\n",
            "Epoch 00041: saving model to /content/drive/MyDrive/Colab Notebooks/Deep-Learning/checkpoints/weights.41.hdf5\n",
            "258/258 [==============================] - 1s 2ms/step - loss: 0.5382 - accuracy: 0.7376 - recall: 0.7965\n",
            "Epoch 42/100\n",
            "258/258 [==============================] - 1s 2ms/step - loss: 0.5375 - accuracy: 0.7375 - recall: 0.7925\n",
            "Epoch 43/100\n",
            "258/258 [==============================] - 1s 2ms/step - loss: 0.5378 - accuracy: 0.7376 - recall: 0.7925\n",
            "Epoch 44/100\n",
            "258/258 [==============================] - 0s 2ms/step - loss: 0.5383 - accuracy: 0.7376 - recall: 0.7953\n",
            "Epoch 45/100\n",
            "258/258 [==============================] - 1s 2ms/step - loss: 0.5375 - accuracy: 0.7379 - recall: 0.7963\n",
            "Epoch 46/100\n",
            " 81/258 [========>.....................] - ETA: 0s - loss: 0.5272 - accuracy: 0.7463 - recall: 0.7989\n",
            "Epoch 00046: saving model to /content/drive/MyDrive/Colab Notebooks/Deep-Learning/checkpoints/weights.46.hdf5\n",
            "258/258 [==============================] - 1s 2ms/step - loss: 0.5375 - accuracy: 0.7385 - recall: 0.7990\n",
            "Epoch 47/100\n",
            "258/258 [==============================] - 0s 2ms/step - loss: 0.5371 - accuracy: 0.7377 - recall: 0.7947\n",
            "Epoch 48/100\n",
            "258/258 [==============================] - 1s 2ms/step - loss: 0.5370 - accuracy: 0.7379 - recall: 0.7945\n",
            "Epoch 49/100\n",
            "258/258 [==============================] - 1s 2ms/step - loss: 0.5373 - accuracy: 0.7381 - recall: 0.7947\n",
            "Epoch 50/100\n",
            "258/258 [==============================] - 0s 2ms/step - loss: 0.5372 - accuracy: 0.7382 - recall: 0.8009\n",
            "Epoch 51/100\n",
            " 98/258 [==========>...................] - ETA: 0s - loss: 0.5347 - accuracy: 0.7359 - recall: 0.7893\n",
            "Epoch 00051: saving model to /content/drive/MyDrive/Colab Notebooks/Deep-Learning/checkpoints/weights.51.hdf5\n",
            "258/258 [==============================] - 1s 2ms/step - loss: 0.5369 - accuracy: 0.7385 - recall: 0.7957\n",
            "Epoch 52/100\n",
            "258/258 [==============================] - 1s 2ms/step - loss: 0.5370 - accuracy: 0.7389 - recall: 0.8016\n",
            "Epoch 53/100\n",
            "258/258 [==============================] - 1s 2ms/step - loss: 0.5369 - accuracy: 0.7381 - recall: 0.7949\n",
            "Epoch 54/100\n",
            "258/258 [==============================] - 1s 2ms/step - loss: 0.5370 - accuracy: 0.7381 - recall: 0.7955\n",
            "Epoch 55/100\n",
            "258/258 [==============================] - 1s 2ms/step - loss: 0.5367 - accuracy: 0.7388 - recall: 0.7976\n",
            "Epoch 56/100\n",
            "108/258 [===========>..................] - ETA: 0s - loss: 0.5323 - accuracy: 0.7398 - recall: 0.7916\n",
            "Epoch 00056: saving model to /content/drive/MyDrive/Colab Notebooks/Deep-Learning/checkpoints/weights.56.hdf5\n",
            "258/258 [==============================] - 1s 2ms/step - loss: 0.5369 - accuracy: 0.7378 - recall: 0.7976\n",
            "Epoch 57/100\n",
            "258/258 [==============================] - 1s 2ms/step - loss: 0.5365 - accuracy: 0.7379 - recall: 0.8010\n",
            "Epoch 58/100\n",
            "258/258 [==============================] - 1s 2ms/step - loss: 0.5367 - accuracy: 0.7387 - recall: 0.7965\n",
            "Epoch 59/100\n",
            "258/258 [==============================] - 1s 2ms/step - loss: 0.5368 - accuracy: 0.7388 - recall: 0.7997\n",
            "Epoch 60/100\n",
            "258/258 [==============================] - 1s 2ms/step - loss: 0.5361 - accuracy: 0.7388 - recall: 0.7998\n",
            "Epoch 61/100\n",
            "100/258 [==========>...................] - ETA: 0s - loss: 0.5389 - accuracy: 0.7381 - recall: 0.7960\n",
            "Epoch 00061: saving model to /content/drive/MyDrive/Colab Notebooks/Deep-Learning/checkpoints/weights.61.hdf5\n",
            "258/258 [==============================] - 1s 2ms/step - loss: 0.5363 - accuracy: 0.7393 - recall: 0.7970\n",
            "Epoch 62/100\n",
            "258/258 [==============================] - 1s 2ms/step - loss: 0.5369 - accuracy: 0.7388 - recall: 0.8001\n",
            "Epoch 63/100\n",
            "258/258 [==============================] - 1s 2ms/step - loss: 0.5366 - accuracy: 0.7391 - recall: 0.7998\n",
            "Epoch 64/100\n",
            "258/258 [==============================] - 1s 2ms/step - loss: 0.5359 - accuracy: 0.7387 - recall: 0.7933\n",
            "Epoch 65/100\n",
            "258/258 [==============================] - 1s 2ms/step - loss: 0.5359 - accuracy: 0.7381 - recall: 0.7939\n",
            "Epoch 66/100\n",
            "127/258 [=============>................] - ETA: 0s - loss: 0.5368 - accuracy: 0.7397 - recall: 0.7983\n",
            "Epoch 00066: saving model to /content/drive/MyDrive/Colab Notebooks/Deep-Learning/checkpoints/weights.66.hdf5\n",
            "258/258 [==============================] - 1s 2ms/step - loss: 0.5364 - accuracy: 0.7383 - recall: 0.7976\n",
            "Epoch 67/100\n",
            "258/258 [==============================] - 1s 2ms/step - loss: 0.5358 - accuracy: 0.7386 - recall: 0.7987\n",
            "Epoch 68/100\n",
            "258/258 [==============================] - 1s 2ms/step - loss: 0.5357 - accuracy: 0.7385 - recall: 0.7938\n",
            "Epoch 69/100\n",
            "258/258 [==============================] - 1s 2ms/step - loss: 0.5354 - accuracy: 0.7385 - recall: 0.7988\n",
            "Epoch 70/100\n",
            "258/258 [==============================] - 1s 2ms/step - loss: 0.5361 - accuracy: 0.7389 - recall: 0.8001\n",
            "Epoch 71/100\n",
            "130/258 [==============>...............] - ETA: 0s - loss: 0.5324 - accuracy: 0.7397 - recall: 0.7980\n",
            "Epoch 00071: saving model to /content/drive/MyDrive/Colab Notebooks/Deep-Learning/checkpoints/weights.71.hdf5\n",
            "258/258 [==============================] - 1s 2ms/step - loss: 0.5360 - accuracy: 0.7393 - recall: 0.7986\n",
            "Epoch 72/100\n",
            "258/258 [==============================] - 1s 2ms/step - loss: 0.5357 - accuracy: 0.7390 - recall: 0.7991\n",
            "Epoch 73/100\n",
            "258/258 [==============================] - 1s 2ms/step - loss: 0.5353 - accuracy: 0.7392 - recall: 0.7994\n",
            "Epoch 74/100\n",
            "258/258 [==============================] - 1s 2ms/step - loss: 0.5357 - accuracy: 0.7389 - recall: 0.8022\n",
            "Epoch 75/100\n",
            "258/258 [==============================] - 0s 2ms/step - loss: 0.5357 - accuracy: 0.7390 - recall: 0.8003\n",
            "Epoch 76/100\n",
            "127/258 [=============>................] - ETA: 0s - loss: 0.5333 - accuracy: 0.7387 - recall: 0.7986\n",
            "Epoch 00076: saving model to /content/drive/MyDrive/Colab Notebooks/Deep-Learning/checkpoints/weights.76.hdf5\n",
            "258/258 [==============================] - 1s 2ms/step - loss: 0.5353 - accuracy: 0.7380 - recall: 0.7963\n",
            "Epoch 77/100\n",
            "258/258 [==============================] - 0s 2ms/step - loss: 0.5355 - accuracy: 0.7390 - recall: 0.7974\n",
            "Epoch 78/100\n",
            "258/258 [==============================] - 1s 2ms/step - loss: 0.5348 - accuracy: 0.7393 - recall: 0.7950\n",
            "Epoch 79/100\n",
            "258/258 [==============================] - 1s 2ms/step - loss: 0.5352 - accuracy: 0.7383 - recall: 0.7971\n",
            "Epoch 80/100\n",
            "258/258 [==============================] - 1s 2ms/step - loss: 0.5356 - accuracy: 0.7395 - recall: 0.7978\n",
            "Epoch 81/100\n",
            "158/258 [=================>............] - ETA: 0s - loss: 0.5315 - accuracy: 0.7413 - recall: 0.7940\n",
            "Epoch 00081: saving model to /content/drive/MyDrive/Colab Notebooks/Deep-Learning/checkpoints/weights.81.hdf5\n",
            "258/258 [==============================] - 1s 2ms/step - loss: 0.5353 - accuracy: 0.7390 - recall: 0.7967\n",
            "Epoch 82/100\n",
            "258/258 [==============================] - 1s 2ms/step - loss: 0.5355 - accuracy: 0.7399 - recall: 0.8029\n",
            "Epoch 83/100\n",
            "258/258 [==============================] - 1s 2ms/step - loss: 0.5352 - accuracy: 0.7395 - recall: 0.7947\n",
            "Epoch 84/100\n",
            "258/258 [==============================] - 1s 2ms/step - loss: 0.5352 - accuracy: 0.7394 - recall: 0.8007\n",
            "Epoch 85/100\n",
            "258/258 [==============================] - 1s 2ms/step - loss: 0.5346 - accuracy: 0.7401 - recall: 0.7985\n",
            "Epoch 86/100\n",
            "154/258 [================>.............] - ETA: 0s - loss: 0.5312 - accuracy: 0.7421 - recall: 0.8000\n",
            "Epoch 00086: saving model to /content/drive/MyDrive/Colab Notebooks/Deep-Learning/checkpoints/weights.86.hdf5\n",
            "258/258 [==============================] - 1s 2ms/step - loss: 0.5348 - accuracy: 0.7383 - recall: 0.7974\n",
            "Epoch 87/100\n",
            "258/258 [==============================] - 1s 2ms/step - loss: 0.5352 - accuracy: 0.7390 - recall: 0.7974\n",
            "Epoch 88/100\n",
            "258/258 [==============================] - 1s 2ms/step - loss: 0.5349 - accuracy: 0.7393 - recall: 0.7994\n",
            "Epoch 89/100\n",
            "258/258 [==============================] - 1s 2ms/step - loss: 0.5345 - accuracy: 0.7390 - recall: 0.7998\n",
            "Epoch 90/100\n",
            "258/258 [==============================] - 1s 2ms/step - loss: 0.5347 - accuracy: 0.7397 - recall: 0.7983\n",
            "Epoch 91/100\n",
            "155/258 [=================>............] - ETA: 0s - loss: 0.5279 - accuracy: 0.7461 - recall: 0.8090\n",
            "Epoch 00091: saving model to /content/drive/MyDrive/Colab Notebooks/Deep-Learning/checkpoints/weights.91.hdf5\n",
            "258/258 [==============================] - 1s 2ms/step - loss: 0.5343 - accuracy: 0.7397 - recall: 0.8005\n",
            "Epoch 92/100\n",
            "258/258 [==============================] - 1s 2ms/step - loss: 0.5351 - accuracy: 0.7399 - recall: 0.8002\n",
            "Epoch 93/100\n",
            "258/258 [==============================] - 1s 2ms/step - loss: 0.5345 - accuracy: 0.7389 - recall: 0.7975\n",
            "Epoch 94/100\n",
            "258/258 [==============================] - 1s 2ms/step - loss: 0.5342 - accuracy: 0.7395 - recall: 0.7993\n",
            "Epoch 95/100\n",
            "258/258 [==============================] - 1s 2ms/step - loss: 0.5344 - accuracy: 0.7393 - recall: 0.7955\n",
            "Epoch 96/100\n",
            "178/258 [===================>..........] - ETA: 0s - loss: 0.5351 - accuracy: 0.7385 - recall: 0.7940\n",
            "Epoch 00096: saving model to /content/drive/MyDrive/Colab Notebooks/Deep-Learning/checkpoints/weights.96.hdf5\n",
            "258/258 [==============================] - 1s 2ms/step - loss: 0.5344 - accuracy: 0.7399 - recall: 0.7926\n",
            "Epoch 97/100\n",
            "258/258 [==============================] - 1s 2ms/step - loss: 0.5344 - accuracy: 0.7405 - recall: 0.7974\n",
            "Epoch 98/100\n",
            "258/258 [==============================] - 1s 2ms/step - loss: 0.5344 - accuracy: 0.7393 - recall: 0.7988\n",
            "Epoch 99/100\n",
            "258/258 [==============================] - 1s 2ms/step - loss: 0.5344 - accuracy: 0.7393 - recall: 0.7980\n",
            "Epoch 100/100\n",
            "258/258 [==============================] - 1s 2ms/step - loss: 0.5346 - accuracy: 0.7390 - recall: 0.7935\n"
          ]
        }
      ]
    },
    {
      "cell_type": "code",
      "execution_count": 34,
      "metadata": {
        "id": "Y5SQPcgoo5qP",
        "outputId": "f1daafc0-80be-4082-8268-8064b634f296",
        "colab": {
          "base_uri": "https://localhost:8080/"
        }
      },
      "outputs": [
        {
          "output_type": "stream",
          "name": "stdout",
          "text": [
            "268/268 - 1s - loss: 0.5624 - accuracy: 0.7298 - recall: 0.7890 - 535ms/epoch - 2ms/step\n",
            "Loss: 0.5624170303344727, Accuracy: 0.7297959327697754\n"
          ]
        }
      ],
      "source": [
        "# Evaluate the model using the test data\n",
        "model_loss, model_accuracy, model_Recall = nn.evaluate(X_test_scaled,y_test,verbose=2)\n",
        "print(f\"Loss: {model_loss}, Accuracy: {model_accuracy}\")"
      ]
    },
    {
      "cell_type": "markdown",
      "source": [
        "### History and Plots \n",
        "\n"
      ],
      "metadata": {
        "id": "9xVosr8w7LyM"
      }
    },
    {
      "cell_type": "code",
      "source": [
        "# list all data in history\n",
        "print(fit_model.history.keys())"
      ],
      "metadata": {
        "colab": {
          "base_uri": "https://localhost:8080/"
        },
        "id": "hbzcH4sYesy_",
        "outputId": "df030cf4-c92e-47fd-84fb-2216adf4f195"
      },
      "execution_count": 35,
      "outputs": [
        {
          "output_type": "stream",
          "name": "stdout",
          "text": [
            "dict_keys(['loss', 'accuracy', 'recall'])\n"
          ]
        }
      ]
    },
    {
      "cell_type": "code",
      "source": [
        "# Create a DataFrame containing training history\n",
        "history_df = pd.DataFrame(fit_model.history, index=range(1,len(fit_model.history[\"loss\"])+1))\n",
        "\n",
        "# Plot the accuracy\n",
        "# Visualize Loss/Accuracy\n",
        "from google.colab import files\n",
        "images_dir = '/content/drive/MyDrive/Colab Notebooks/Deep-Learning/Images'\n",
        "\n",
        "fig, ax = plt.subplots()\n",
        "plt.title('Opitimize Model 1: Accuracy and Loss \\n',fontsize=20)\n",
        "loss = ax.plot(history_df[\"loss\"], color=\"red\", label=\"Loss\")\n",
        "ax.set_xlabel(\"Epoch\")\n",
        "ax.set_ylabel(\"Loss\")\n",
        "\n",
        "ax2 = ax.twinx()\n",
        "acc = ax2.plot(history_df[\"accuracy\"], color=\"blue\", label=\"Accuracy\")\n",
        "ax2.set_ylabel(\"Accuracy\")\n",
        "\n",
        "curves = loss + acc\n",
        "labs = [l.get_label() for l in curves]\n",
        "ax.legend(curves, labs, loc=\"center right\")\n",
        "\n",
        "plt.savefig(f\"{images_dir}/AlphabetSoupCharity_Optimizer1_Acc_Loss.png\")\n",
        "files.download(f\"{images_dir}/AlphabetSoupCharity_Optimizer1_Acc_Loss.png\")\n",
        "\n",
        "plt.show()\n"
      ],
      "metadata": {
        "id": "MyAvBvAU7VJS",
        "colab": {
          "base_uri": "https://localhost:8080/",
          "height": 322
        },
        "outputId": "82fc11ea-d05a-4b74-f78c-9568915d8412"
      },
      "execution_count": 36,
      "outputs": [
        {
          "output_type": "display_data",
          "data": {
            "application/javascript": [
              "\n",
              "    async function download(id, filename, size) {\n",
              "      if (!google.colab.kernel.accessAllowed) {\n",
              "        return;\n",
              "      }\n",
              "      const div = document.createElement('div');\n",
              "      const label = document.createElement('label');\n",
              "      label.textContent = `Downloading \"${filename}\": `;\n",
              "      div.appendChild(label);\n",
              "      const progress = document.createElement('progress');\n",
              "      progress.max = size;\n",
              "      div.appendChild(progress);\n",
              "      document.body.appendChild(div);\n",
              "\n",
              "      const buffers = [];\n",
              "      let downloaded = 0;\n",
              "\n",
              "      const channel = await google.colab.kernel.comms.open(id);\n",
              "      // Send a message to notify the kernel that we're ready.\n",
              "      channel.send({})\n",
              "\n",
              "      for await (const message of channel.messages) {\n",
              "        // Send a message to notify the kernel that we're ready.\n",
              "        channel.send({})\n",
              "        if (message.buffers) {\n",
              "          for (const buffer of message.buffers) {\n",
              "            buffers.push(buffer);\n",
              "            downloaded += buffer.byteLength;\n",
              "            progress.value = downloaded;\n",
              "          }\n",
              "        }\n",
              "      }\n",
              "      const blob = new Blob(buffers, {type: 'application/binary'});\n",
              "      const a = document.createElement('a');\n",
              "      a.href = window.URL.createObjectURL(blob);\n",
              "      a.download = filename;\n",
              "      div.appendChild(a);\n",
              "      a.click();\n",
              "      div.remove();\n",
              "    }\n",
              "  "
            ],
            "text/plain": [
              "<IPython.core.display.Javascript object>"
            ]
          },
          "metadata": {}
        },
        {
          "output_type": "display_data",
          "data": {
            "application/javascript": [
              "download(\"download_37df328a-4671-4a61-9546-f08769c1af3e\", \"AlphabetSoupCharity_Optimizer1_Acc_Loss.png\", 23497)"
            ],
            "text/plain": [
              "<IPython.core.display.Javascript object>"
            ]
          },
          "metadata": {}
        },
        {
          "output_type": "display_data",
          "data": {
            "image/png": "[encoded data removed]",
            "text/plain": [
              "<Figure size 432x288 with 2 Axes>"
            ]
          },
          "metadata": {
            "needs_background": "light"
          }
        }
      ]
    },
    {
      "cell_type": "code",
      "execution_count": 37,
      "metadata": {
        "id": "GhZWahmVo5qP",
        "colab": {
          "base_uri": "https://localhost:8080/",
          "height": 17
        },
        "outputId": "79d922bd-bd76-46fc-c368-2ff712c91473"
      },
      "outputs": [
        {
          "output_type": "display_data",
          "data": {
            "application/javascript": [
              "\n",
              "    async function download(id, filename, size) {\n",
              "      if (!google.colab.kernel.accessAllowed) {\n",
              "        return;\n",
              "      }\n",
              "      const div = document.createElement('div');\n",
              "      const label = document.createElement('label');\n",
              "      label.textContent = `Downloading \"${filename}\": `;\n",
              "      div.appendChild(label);\n",
              "      const progress = document.createElement('progress');\n",
              "      progress.max = size;\n",
              "      div.appendChild(progress);\n",
              "      document.body.appendChild(div);\n",
              "\n",
              "      const buffers = [];\n",
              "      let downloaded = 0;\n",
              "\n",
              "      const channel = await google.colab.kernel.comms.open(id);\n",
              "      // Send a message to notify the kernel that we're ready.\n",
              "      channel.send({})\n",
              "\n",
              "      for await (const message of channel.messages) {\n",
              "        // Send a message to notify the kernel that we're ready.\n",
              "        channel.send({})\n",
              "        if (message.buffers) {\n",
              "          for (const buffer of message.buffers) {\n",
              "            buffers.push(buffer);\n",
              "            downloaded += buffer.byteLength;\n",
              "            progress.value = downloaded;\n",
              "          }\n",
              "        }\n",
              "      }\n",
              "      const blob = new Blob(buffers, {type: 'application/binary'});\n",
              "      const a = document.createElement('a');\n",
              "      a.href = window.URL.createObjectURL(blob);\n",
              "      a.download = filename;\n",
              "      div.appendChild(a);\n",
              "      a.click();\n",
              "      div.remove();\n",
              "    }\n",
              "  "
            ],
            "text/plain": [
              "<IPython.core.display.Javascript object>"
            ]
          },
          "metadata": {}
        },
        {
          "output_type": "display_data",
          "data": {
            "application/javascript": [
              "download(\"download_55c32730-76d3-4429-b0fc-c3e39f11904e\", \"AlphabetSoupCharity_Optimizer1.h5\", 113936)"
            ],
            "text/plain": [
              "<IPython.core.display.Javascript object>"
            ]
          },
          "metadata": {}
        }
      ],
      "source": [
        "# Export our model to HDF5 file. # (equation (with all structure )# info on model , to load model on diffe dataset, neural network structure to compile\n",
        "#/content/drive/MyDrive/Colab Notebooks/Deep-Learning/\n",
        "nn.save('/content/drive/MyDrive/Colab Notebooks/Deep-Learning/Models/AlphabetSoupCharity_Optimizer1.h5')\n",
        "files.download('/content/drive/MyDrive/Colab Notebooks/Deep-Learning/Models/AlphabetSoupCharity_Optimizer1.h5')\n",
        "\n"
      ]
    }
  ],
  "metadata": {
    "kernelspec": {
      "display_name": "Python 3",
      "language": "python",
      "name": "python3"
    },
    "language_info": {
      "codemirror_mode": {
        "name": "ipython",
        "version": 3
      },
      "file_extension": ".py",
      "mimetype": "text/x-python",
      "name": "python",
      "nbconvert_exporter": "python",
      "pygments_lexer": "ipython3",
      "version": "3.6.13"
    },
    "colab": {
      "name": "AlphabetSoupCharity_Optimizer1.ipynb",
      "provenance": [],
      "collapsed_sections": []
    }
  },
  "nbformat": 4,
  "nbformat_minor": 0
}